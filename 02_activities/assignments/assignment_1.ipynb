{
 "cells": [
  {
   "cell_type": "markdown",
   "metadata": {},
   "source": [
    "# Coding Problems\n",
    "\n",
    "## Objective\n",
    "\n",
    "This assignment aims to demonstrate how to study a data structures or algorithms question in depth to prepare for an industry coding interview. Leetcode is a popular coding practice site that many use to practice for technical interviews. Like behavioral interviews, it's important to practice and keep your skills sharp.\n",
    "\n",
    "## Group Size\n",
    "\n",
    "Please complete this individually.\n",
    "\n",
    "## Part 1:\n",
    "\n",
    "_*You will be assigned one of three problems based of your first name. Execute the code below, and that will tell you your assigned problem. Include the output as part of your submission (do not clear the output). The problems are based-off problems from Leetcode.*_\n"
   ]
  },
  {
   "cell_type": "code",
   "execution_count": 62,
   "metadata": {},
   "outputs": [
    {
     "name": "stdout",
     "output_type": "stream",
     "text": [
      "3\n"
     ]
    }
   ],
   "source": [
    "print((hash('Dmytro') % 3) + 1)"
   ]
  },
  {
   "cell_type": "markdown",
   "metadata": {},
   "source": [
    "<details>\n",
    "  <summary>Question 1</summary>\n",
    "\n",
    "  # Question One: Check Duplicates in Tree\n",
    "\n",
    "  Given the `root` of a binary tree, check whether it is contains a duplicate value. If a duplicate exists, return the duplicate value. If there are multiple duplicates, return the one with the closest distance to the root. If no duplicate exists, return -1.\n",
    "\n",
    "  ## Examples\n",
    "\n",
    "  ### Example 1\n",
    "\n",
    "  ![](./images/q1_ex1.png)\n",
    "\n",
    "  Input: `root = [1, 2, 2, 3, 5, 6, 7]` *What traversal method is this?*\n",
    "\n",
    "  Output: 2\n",
    "\n",
    "  ### Example 2\n",
    "\n",
    "  ![](./images/q1_ex2.png)\n",
    "\n",
    "  Input: `root = [1, 10, 2, 3, 10, 12, 12]`\n",
    "\n",
    "  Output: 10\n",
    "\n",
    "  ### Example 3\n",
    "\n",
    "  ![](./images/q1_ex3.png)\n",
    "\n",
    "  Input: `root = [10, 9, 8, 7]`\n",
    "\n",
    "  Output: -1\n",
    "\n",
    "</details>\n",
    "\n",
    "#### Starter Code for Question 1"
   ]
  },
  {
   "cell_type": "code",
   "execution_count": null,
   "metadata": {},
   "outputs": [],
   "source": [
    "# Definition for a binary tree node.\n",
    "# class TreeNode(object):\n",
    "#     def __init__(self, val = 0, left = None, right = None):\n",
    "#         self.val = val\n",
    "#         self.left = left\n",
    "#         self.right = right\n",
    "def is_duplicate(root: TreeNode) -> int:\n",
    "  # TODO"
   ]
  },
  {
   "cell_type": "markdown",
   "metadata": {},
   "source": [
    "<details>\n",
    "  <summary>Question 2</summary>\n",
    "\n",
    "  # Question Two: Path to Leaves\n",
    "\n",
    "  Given the `root` of a binary tree, return all root to leaf paths in any order.\n",
    "\n",
    "  ## Examples\n",
    "\n",
    "  ### Example 1\n",
    "\n",
    "  ![](./images/q1_ex1.png)\n",
    "\n",
    "  Input: `root = [1, 2, 2, 3, 5, 6, 7]` *What traversal method is this?*\n",
    "\n",
    "  Output: [[1, 2, 3], [1, 2, 5], [1, 2, 6], [1, 2, 7]]\n",
    "\n",
    "  ### Example 2\n",
    "\n",
    "  ![](./images/q1_ex3.png)\n",
    "\n",
    "  Input: `root = [10, 9, 7, 8]`\n",
    "\n",
    "  Output: [[10, 7], [10, 9, 8]]\n",
    "\n",
    "</details>\n",
    "\n",
    "#### Starter Code for Question 2"
   ]
  },
  {
   "cell_type": "code",
   "execution_count": null,
   "metadata": {},
   "outputs": [],
   "source": [
    "# Definition for a binary tree node.\n",
    "# class TreeNode(object):\n",
    "#     def __init__(self, val = 0, left = None, right = None):\n",
    "#         self.val = val\n",
    "#         self.left = left\n",
    "#         self.right = right\n",
    "def bt_path(root: TreeNode) -> List[List[int]]:\n",
    "  # TODO"
   ]
  },
  {
   "cell_type": "markdown",
   "metadata": {},
   "source": [
    "<details>\n",
    "  <summary>Question 3</summary>\n",
    "\n",
    "  # Question Three: Missing Number in Range\n",
    " \n",
    "  You are given a list containing `n` integers in the range `[0, n]`. Return a list of numbers that are missing from the range `[0, n]` of the array. If there is no missing number, return -1. Note, all the integers in the list may not be unique.\n",
    "  \n",
    "  ## Examples\n",
    "\n",
    "  ### Example 1\n",
    "\n",
    "  Input: `lst = [0, 2]`\n",
    "\n",
    "  Output: [1]\n",
    "\n",
    "  ### Example 2\n",
    "\n",
    "  Input: `lst = [5, 0, 1]`\n",
    "\n",
    "  Output: [2, 3, 4]\n",
    "\n",
    "  ### Example 3\n",
    "\n",
    "  Input: `lst = [6, 8, 2, 3, 5, 7, 0, 1, 10]`\n",
    "\n",
    "  Output: [4, 9]\n",
    "\n",
    "</details>\n",
    "\n",
    "#### Starter Code for Question 3\n"
   ]
  },
  {
   "cell_type": "code",
   "execution_count": 55,
   "metadata": {},
   "outputs": [],
   "source": [
    "def missing_num(nums: list) -> int:\n",
    "    # Determine the maximum value in the list to define the upper limit of the range\n",
    "    max_val = max(lst)\n",
    "        \n",
    "    # Create a set from the list to remove duplicates and for O(1) average-time complexity for lookups\n",
    "    set_lst = set(lst)\n",
    "        \n",
    "    # Create a set of all numbers in the range 0 to max_val\n",
    "    full_range_set = set(range(max_val + 1))\n",
    "        \n",
    "    # Find the difference between the full range set and the set created from the list\n",
    "    missing_numbers = full_range_set - set_lst\n",
    "    \n",
    "    # Convert the set of missing numbers to a sorted list\n",
    "    missing_numbers_list = sorted(list(missing_numbers))\n",
    "    \n",
    "    # If there are no missing numbers, return -1\n",
    "    if not missing_numbers_list:\n",
    "        return -1\n",
    "    else:\n",
    "        return missing_numbers_list"
   ]
  },
  {
   "cell_type": "code",
   "execution_count": 61,
   "metadata": {},
   "outputs": [
    {
     "data": {
      "text/plain": [
       "[1]"
      ]
     },
     "execution_count": 61,
     "metadata": {},
     "output_type": "execute_result"
    }
   ],
   "source": [
    "lst = [0, 2]\n",
    "missing_num(lst)"
   ]
  },
  {
   "cell_type": "code",
   "execution_count": 58,
   "metadata": {},
   "outputs": [
    {
     "data": {
      "text/plain": [
       "[2, 3, 4]"
      ]
     },
     "execution_count": 58,
     "metadata": {},
     "output_type": "execute_result"
    }
   ],
   "source": [
    "lst = [5, 0, 1]\n",
    "missing_num(lst)"
   ]
  },
  {
   "cell_type": "code",
   "execution_count": 59,
   "metadata": {},
   "outputs": [
    {
     "data": {
      "text/plain": [
       "[4, 9]"
      ]
     },
     "execution_count": 59,
     "metadata": {},
     "output_type": "execute_result"
    }
   ],
   "source": [
    "lst = [6, 8, 2, 3, 5, 7, 0, 1, 10]\n",
    "missing_num(lst)"
   ]
  },
  {
   "cell_type": "markdown",
   "metadata": {},
   "source": [
    "\n",
    "## Part 2:\n",
    "\n",
    "-   Paraphrase the problem in your own words\n",
    "\n",
    "    - Given a list of integers where the numbers range from 0 to n, identify and return the numbers that are missing within this range. If the list already includes all numbers from 0 to n, return -1 instead. Note that the list may have duplicate values.\n"
   ]
  },
  {
   "cell_type": "markdown",
   "metadata": {},
   "source": [
    "\n",
    "-   In the .md file containing your problem, there are examples that illustrate how the code should work. Create 2 new examples that demonstrate you understand the problem.\n"
   ]
  },
  {
   "cell_type": "markdown",
   "metadata": {},
   "source": [
    "- Example #1\n",
    "\n",
    "    - Input: lst = [7, 1]\n",
    "\n",
    "    - Output: [0, 2, 3, 4, 5, 6]\n",
    "\n",
    "    - Explanation: The list should contain integers from 0 to 7 (since the maximum number is 7). \n",
    "        -  The numbers 0, 2, 3, 4, 5, and 6 are missing from the list.\n",
    "\n",
    "- Example #2\n",
    "    - Input: lst = [15, 3, 10, 7, 12, 5, 1, 2, 6, 4, 11, 0, 8, 14]\n",
    "    - Output: [9, 13]\n",
    "    - Explanation: The list should contain integers from 0 to 15 (since the maximum number is 15). \n",
    "        - The numbers 9 and 13 are missing from the list."
   ]
  },
  {
   "cell_type": "markdown",
   "metadata": {},
   "source": [
    "\n",
    "-   Code the solution to your assigned problem in Python (code chunk). Try to find the best time and space complexity solution!\n",
    "    - See above\n"
   ]
  },
  {
   "cell_type": "markdown",
   "metadata": {},
   "source": [
    "\n",
    "-   Explain why your solution works\n"
   ]
  },
  {
   "cell_type": "markdown",
   "metadata": {},
   "source": [
    "**Problem Breakdown**\n",
    "\n",
    "The problem requires us to identify numbers missing from a range [0, n] given a list of integers, where some integers in this range might be missing, and there could be duplicates. The solution needs to efficiently find and return the missing numbers or return -1 if none are missing.\n",
    "\n",
    "**Key Steps in the Solution**\n",
    "\n",
    "1. **Determine the Range:**\n",
    "\n",
    "    - To determine the upper limit n of the range, we use the maximum value in the list (max_val = max(lst)). This ensures that we are considering the entire possible range of numbers present in the list.\n",
    "\n",
    "2. **Remove Duplicates for Efficient Lookup:**\n",
    "\n",
    "    - Using a set to store the list elements (set_lst = set(lst)) ensures that any duplicate numbers are removed, and lookups are efficient (average time complexity of O(1) for set operations).\n",
    "\n",
    "3. **Create a Full Range Set:**\n",
    "\n",
    "    - By creating a set of all numbers from 0 to max_val (full_range_set = set(range(max_val + 1))), we establish the complete range of numbers that should be present.\n",
    "\n",
    "4. **Find Missing Numbers:**\n",
    "\n",
    "    - The difference between the full range set and the set of list elements (missing_numbers = full_range_set - set_lst) gives us the set of missing numbers. This operation is efficient because it leverages set difference, which is fast.\n",
    "\n",
    "5. **Convert to Sorted List:**\n",
    "\n",
    "    - We convert the resulting set of missing numbers to a sorted list to provide the missing numbers in ascending order (missing_numbers_list = sorted(list(missing_numbers))).\n",
    "\n",
    "6. **Return the Result:**\n",
    "\n",
    "    -   If no numbers are missing (if not missing_numbers_list), we return -1. Otherwise, we return the sorted list of missing numbers.\n",
    "\n",
    "**Why It Works**\n",
    "1. Correct Range Identification:\n",
    "\n",
    "    - By using the maximum value in the list to determine the range, the solution correctly accounts for the full span of potential numbers.\n",
    "\n",
    "2. Efficiency with Sets:\n",
    "\n",
    "    - Sets are used to handle duplicates and provide efficient look-up and difference operations. This ensures that the solution operates in linear time relative to the size of the input list, making it highly efficient.\n",
    "\n",
    "3. Accurate Missing Number Detection:\n",
    "\n",
    "    - The set difference operation accurately identifies the missing numbers by subtracting the present numbers from the full expected range."
   ]
  },
  {
   "cell_type": "markdown",
   "metadata": {},
   "source": [
    "\n",
    "-   Explain the problem’s time and space complexity\n"
   ]
  },
  {
   "cell_type": "markdown",
   "metadata": {},
   "source": [
    "**Time Complexity:** \n",
    "\n",
    "-   𝑂(𝑛), where 𝑛 is the number of elements in the list. This is because set operations (insertion, lookup, and difference) typically have an average time complexity of 𝑂(1), and we perform a linear pass through the list to create the sets.\n",
    "\n",
    "**Space Complexity:** \n",
    "\n",
    "-   𝑂(𝑛), due to the additional space required to store the sets (set_lst and full_range_set), which in the worst case can be as large as the input list."
   ]
  },
  {
   "cell_type": "markdown",
   "metadata": {},
   "source": [
    "\n",
    "\n",
    "\n",
    "-   Explain the thinking to an alternative solution (no coding required, but a classmate reading this should be able to code it up based off your text)\n",
    "\n",
    "\n",
    "    -   **Step-by-Step Recursive Solution:**\n",
    "\n",
    "        1. Determine the Range:\n",
    "\n",
    "            - Identify the maximum value in the list to determine the range [0, max_val].\n",
    "\n",
    "        2. Create a Set\n",
    "            - Use a set to store the list elements for efficient look-up.\n",
    "\n",
    "        3. Recursive Function:\n",
    "\n",
    "            - Create a recursive function find_missing_recursive that takes the current number and the list of missing numbers as arguments.\n",
    "\n",
    "            - Base case: If the current number is greater than max_val, return the list of missing numbers.\n",
    "\n",
    "            - Recursive case: If the current number is not in the list, add it to the missing numbers list and call the function with the next number.\n",
    "\n",
    "        4. Initial Call:\n",
    "\n",
    "            - Start the recursion with the number 0.\n",
    "\n",
    "        5. Return the Result:\n",
    "\n",
    "            - If missing numbers list is empty after the recursion completes, return -1. Otherwise, return the list of missing numbers.\n"
   ]
  },
  {
   "cell_type": "markdown",
   "metadata": {},
   "source": [
    "## Evaluation Criteria\n",
    "\n",
    "-   Problem is accurately stated\n",
    "\n",
    "-   Two examples are correct and easily understandable\n",
    "\n",
    "-   Correctness, time, and space complexity of the coding solution\n",
    "\n",
    "-   Clarity in explaining why the solution works, its time and space complexity\n",
    "\n",
    "-   Clarity in the proposal to the alternative solution"
   ]
  },
  {
   "cell_type": "markdown",
   "metadata": {},
   "source": [
    "## Submission Information\n",
    "\n",
    "🚨 **Please review our [Assignment Submission Guide](https://github.com/UofT-DSI/onboarding/blob/main/onboarding_documents/submissions.md)** 🚨 for detailed instructions on how to format, branch, and submit your work. Following these guidelines is crucial for your submissions to be evaluated correctly.\n",
    "\n",
    "### Submission Parameters:\n",
    "* Submission Due Date: `HH:MM AM/PM - DD/MM/YYYY`\n",
    "* The branch name for your repo should be: `assignment-1`\n",
    "* What to submit for this assignment:\n",
    "    * This Jupyter Notebook (assignment_1.ipynb) should be populated and should be the only change in your pull request.\n",
    "* What the pull request link should look like for this assignment: `https://github.com/<your_github_username>/algorithms_and_data_structures/pull/<pr_id>`\n",
    "    * Open a private window in your browser. Copy and paste the link to your pull request into the address bar. Make sure you can see your pull request properly. This helps the technical facilitator and learning support staff review your submission easily.\n",
    "\n",
    "Checklist:\n",
    "- [ ] Create a branch called `assignment-1`.\n",
    "- [ ] Ensure that the repository is public.\n",
    "- [ ] Review [the PR description guidelines](https://github.com/UofT-DSI/onboarding/blob/main/onboarding_documents/submissions.md#guidelines-for-pull-request-descriptions) and adhere to them.\n",
    "- [ ] Verify that the link is accessible in a private browser window.\n",
    "\n",
    "If you encounter any difficulties or have questions, please don't hesitate to reach out to our team via our Slack at `#cohort-3-help`. Our Technical Facilitators and Learning Support staff are here to help you navigate any challenges."
   ]
  }
 ],
 "metadata": {
  "kernelspec": {
   "display_name": "Python 3",
   "language": "python",
   "name": "python3"
  },
  "language_info": {
   "codemirror_mode": {
    "name": "ipython",
    "version": 3
   },
   "file_extension": ".py",
   "mimetype": "text/x-python",
   "name": "python",
   "nbconvert_exporter": "python",
   "pygments_lexer": "ipython3",
   "version": "3.11.7"
  }
 },
 "nbformat": 4,
 "nbformat_minor": 2
}
